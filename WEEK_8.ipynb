{
 "cells": [
  {
   "cell_type": "code",
   "execution_count": 1,
   "id": "59b267a6",
   "metadata": {},
   "outputs": [],
   "source": [
    "# Build an Artificial Neural Network by implementing the Backpropagation algorithm and test the same \n",
    "# using appropriate data sets."
   ]
  },
  {
   "cell_type": "code",
   "execution_count": 2,
   "id": "98d45511",
   "metadata": {},
   "outputs": [],
   "source": [
    "import pandas as pd\n",
    "import numpy as np\n",
    "import warnings\n",
    "warnings.filterwarnings('ignore')"
   ]
  },
  {
   "cell_type": "code",
   "execution_count": 3,
   "id": "7ffb5328",
   "metadata": {},
   "outputs": [
    {
     "name": "stdout",
     "output_type": "stream",
     "text": [
      "[[0.66666667 1.        ]\n",
      " [0.33333333 0.55555556]\n",
      " [1.         0.66666667]]\n",
      "[[0.92]\n",
      " [0.86]\n",
      " [0.89]]\n"
     ]
    }
   ],
   "source": [
    "X = np.array(([2, 9], [1, 5], [3, 6]), dtype=float)\n",
    "y = np.array(([92], [86], [89]), dtype=float)\n",
    "\n",
    "\n",
    "X = X/np.amax(X,axis=0) \n",
    "y = y/100 \n",
    "\n",
    "print(X)\n",
    "print(y)\n"
   ]
  },
  {
   "cell_type": "code",
   "execution_count": 4,
   "id": "72eaa11c",
   "metadata": {},
   "outputs": [],
   "source": [
    "def sigmoid (x):\n",
    "    return 1/(1 + np.exp(-x))\n",
    "def derivatives_sigmoid(x):\n",
    "    return x * (1 - x)"
   ]
  },
  {
   "cell_type": "code",
   "execution_count": 5,
   "id": "91427101",
   "metadata": {},
   "outputs": [],
   "source": [
    "epoch = 5\n",
    "lr = 0.1\n",
    "inputlayer_neurons = 2\n",
    "hiddenlayer_neurons = 2\n",
    "output_neurons = 1"
   ]
  },
  {
   "cell_type": "code",
   "execution_count": 6,
   "id": "c9c3683d",
   "metadata": {},
   "outputs": [],
   "source": [
    "wh = np.random.uniform(size = (inputlayer_neurons,hiddenlayer_neurons))\n",
    "bh = np.random.uniform(size = (1,hiddenlayer_neurons))"
   ]
  },
  {
   "cell_type": "code",
   "execution_count": 7,
   "id": "9cb8b2c7",
   "metadata": {},
   "outputs": [],
   "source": [
    "wout = np.random.uniform(size = (hiddenlayer_neurons,output_neurons))\n",
    "bout = np.random.uniform(size = (1,output_neurons))"
   ]
  },
  {
   "cell_type": "code",
   "execution_count": 10,
   "id": "c696ed79",
   "metadata": {},
   "outputs": [
    {
     "name": "stdout",
     "output_type": "stream",
     "text": [
      "----- EPOCH 1 Starts--------\n",
      "Input:\n",
      " [[0.66666667 1.        ]\n",
      " [0.33333333 0.55555556]\n",
      " [1.         0.66666667]]\n",
      "Actual Output:\n",
      " [[0.92]\n",
      " [0.86]\n",
      " [0.89]]\n",
      "Predicted Output:\n",
      " [[0.85885818]\n",
      " [0.85382751]\n",
      " [0.85803017]]\n",
      "----- EPOCH 1 Ends--------\n",
      "----- EPOCH 2 Starts--------\n",
      "Input:\n",
      " [[0.66666667 1.        ]\n",
      " [0.33333333 0.55555556]\n",
      " [1.         0.66666667]]\n",
      "Actual Output:\n",
      " [[0.92]\n",
      " [0.86]\n",
      " [0.89]]\n",
      "Predicted Output:\n",
      " [[0.85904377]\n",
      " [0.85400775]\n",
      " [0.85821474]]\n",
      "----- EPOCH 2 Ends--------\n",
      "----- EPOCH 3 Starts--------\n",
      "Input:\n",
      " [[0.66666667 1.        ]\n",
      " [0.33333333 0.55555556]\n",
      " [1.         0.66666667]]\n",
      "Actual Output:\n",
      " [[0.92]\n",
      " [0.86]\n",
      " [0.89]]\n",
      "Predicted Output:\n",
      " [[0.85922795]\n",
      " [0.85418663]\n",
      " [0.85839791]]\n",
      "----- EPOCH 3 Ends--------\n",
      "----- EPOCH 4 Starts--------\n",
      "Input:\n",
      " [[0.66666667 1.        ]\n",
      " [0.33333333 0.55555556]\n",
      " [1.         0.66666667]]\n",
      "Actual Output:\n",
      " [[0.92]\n",
      " [0.86]\n",
      " [0.89]]\n",
      "Predicted Output:\n",
      " [[0.85941075]\n",
      " [0.85436418]\n",
      " [0.8585797 ]]\n",
      "----- EPOCH 4 Ends--------\n",
      "----- EPOCH 5 Starts--------\n",
      "Input:\n",
      " [[0.66666667 1.        ]\n",
      " [0.33333333 0.55555556]\n",
      " [1.         0.66666667]]\n",
      "Actual Output:\n",
      " [[0.92]\n",
      " [0.86]\n",
      " [0.89]]\n",
      "Predicted Output:\n",
      " [[0.85959218]\n",
      " [0.85454039]\n",
      " [0.85876012]]\n",
      "----- EPOCH 5 Ends--------\n"
     ]
    }
   ],
   "source": [
    "for i in range(epoch):\n",
    "#     forward \n",
    "    hinp1 = np.dot(X,wh)\n",
    "    hinp = hinp1 + bh\n",
    "    hlayer_act = sigmoid(hinp)\n",
    "    outinp1 = np.dot(hlayer_act,wout)\n",
    "    outinp = outinp1 + bout\n",
    "    output = sigmoid(outinp)\n",
    "    \n",
    "#     Backward\n",
    "    EO = y - output\n",
    "    outgrad = derivatives_sigmoid(output)\n",
    "    d_out = EO * outgrad\n",
    "    EH = d_out.dot(wout.T)\n",
    "    hiddengrad = derivatives_sigmoid(hlayer_act)\n",
    "    d_hiddenlayer = EH * hiddengrad\n",
    "    \n",
    "    wout += hlayer_act.T.dot(d_out) * lr\n",
    "    wh += X.T.dot(d_hiddenlayer) * lr\n",
    "    \n",
    "    print(\"----- EPOCH\",i+1,\"Starts--------\")\n",
    "    print(\"Input:\\n\",X)\n",
    "    print(\"Actual Output:\\n\",y)\n",
    "    print(\"Predicted Output:\\n\",output)\n",
    "    print(\"----- EPOCH\",i+1,\"Ends--------\")"
   ]
  },
  {
   "cell_type": "code",
   "execution_count": null,
   "id": "b37764e7",
   "metadata": {},
   "outputs": [],
   "source": []
  }
 ],
 "metadata": {
  "kernelspec": {
   "display_name": "Python 3 (ipykernel)",
   "language": "python",
   "name": "python3"
  },
  "language_info": {
   "codemirror_mode": {
    "name": "ipython",
    "version": 3
   },
   "file_extension": ".py",
   "mimetype": "text/x-python",
   "name": "python",
   "nbconvert_exporter": "python",
   "pygments_lexer": "ipython3",
   "version": "3.10.9"
  }
 },
 "nbformat": 4,
 "nbformat_minor": 5
}
